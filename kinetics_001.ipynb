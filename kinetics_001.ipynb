{
 "cells": [
  {
   "cell_type": "markdown",
   "source": [
    "# Heart Rate Recovery Analysis\n",
    "\n",
    "## Theory\n",
    "Inability to recover heart rate to pre-exercise values may suggest sympathetic and/or\n",
    "parasympathetic nervous system dysfunction.\n",
    "\n",
    "## Purpose\n",
    "Analysis of heart rate following maximal exercise testing.\n",
    "\n",
    "## Outline\n",
    "- Load heart rate data\n",
    "- Clean data via filtering, time normalization, and resampling\n",
    "- Apply different analytical methods"
   ],
   "metadata": {
    "collapsed": false,
    "pycharm": {
     "name": "#%% md\n"
    }
   }
  },
  {
   "cell_type": "markdown",
   "source": [
    "## Import Statements"
   ],
   "metadata": {
    "collapsed": false,
    "pycharm": {
     "name": "#%% md\n"
    }
   }
  },
  {
   "cell_type": "code",
   "execution_count": 1,
   "id": "4b72fe50",
   "metadata": {},
   "outputs": [],
   "source": [
    "import numpy as np\n",
    "import pandas as pd\n",
    "import matplotlib.pyplot as plt\n",
    "from scipy.optimize import curve_fit\n",
    "from math import exp, floor, ceil\n",
    "from scipy.signal import resample\n",
    "from scipy.stats import linregress"
   ]
  },
  {
   "cell_type": "markdown",
   "source": [
    "## Functions"
   ],
   "metadata": {
    "collapsed": false,
    "pycharm": {
     "name": "#%% md\n"
    }
   }
  },
  {
   "cell_type": "code",
   "execution_count": 2,
   "outputs": [],
   "source": [
    "def median_absolute_deviation(x):\n",
    "    \"\"\"\n",
    "    Returns the median absolute deviation from the window's median\n",
    "    :param x: Values in the window\n",
    "    :return: MAD\n",
    "    \"\"\"\n",
    "    return np.median(np.abs(x - np.median(x)))\n"
   ],
   "metadata": {
    "collapsed": false,
    "pycharm": {
     "name": "#%%\n"
    }
   }
  },
  {
   "cell_type": "code",
   "execution_count": 3,
   "outputs": [],
   "source": [
    "def hampel(ts, window_size=5, n=3, imputation=False):\n",
    "    # source: https://github.com/MichaelisTrofficus/hampel_filter\n",
    "    # tremendous thanks for making this, and in effect making my life easier\n",
    "\n",
    "    \"\"\"\n",
    "    Median absolute deviation (MAD) outlier in Time Series\n",
    "    :param ts: a pandas Series object representing the timeseries\n",
    "    :param window_size: total window size will be computed as 2*window_size + 1\n",
    "    :param n: threshold, default is 3 (Pearson's rule)\n",
    "    :param imputation: If set to False, then the algorithm will be used for outlier detection.\n",
    "        If set to True, then the algorithm will also imput the outliers with the rolling median.\n",
    "    :return: Returns the outlier indices if imputation=False and the corrected timeseries if imputation=True\n",
    "    \"\"\"\n",
    "\n",
    "    if type(ts) != pd.Series:\n",
    "        raise ValueError(\"Timeseries object must be of type pandas.Series.\")\n",
    "\n",
    "    if type(window_size) != int:\n",
    "        raise ValueError(\"Window size must be of type integer.\")\n",
    "    else:\n",
    "        if window_size <= 0:\n",
    "            raise ValueError(\"Window size must be more than 0.\")\n",
    "\n",
    "    if type(n) != int:\n",
    "        raise ValueError(\"Window size must be of type integer.\")\n",
    "    else:\n",
    "        if n < 0:\n",
    "            raise ValueError(\"Window size must be equal or more than 0.\")\n",
    "\n",
    "    # Copy the Series object. This will be the cleaned timeseries\n",
    "    ts_cleaned = ts.copy()\n",
    "\n",
    "    # Constant scale factor, which depends on the distribution\n",
    "    # In this case, we assume normal distribution\n",
    "    k = 1.4826\n",
    "\n",
    "    rolling_ts = ts_cleaned.rolling(window_size*2, center=True)\n",
    "    rolling_median = rolling_ts.median().fillna(method='bfill').fillna(method='ffill')\n",
    "    rolling_sigma = k*(rolling_ts.apply(median_absolute_deviation).fillna(method='bfill').fillna(method='ffill'))\n",
    "\n",
    "    outlier_indices = list(np.array(np.where(np.abs(ts_cleaned - rolling_median) >= (n * rolling_sigma))).flatten())\n",
    "\n",
    "    if imputation:\n",
    "        ts_cleaned[outlier_indices] = rolling_median[outlier_indices]\n",
    "        return ts_cleaned\n",
    "\n",
    "    return outlier_indices"
   ],
   "metadata": {
    "collapsed": false,
    "pycharm": {
     "name": "#%%\n"
    }
   }
  },
  {
   "cell_type": "markdown",
   "id": "6828b3fb",
   "metadata": {},
   "source": [
    "## Preprocessing"
   ]
  },
  {
   "cell_type": "code",
   "execution_count": 5,
   "id": "2f2ab3b0",
   "metadata": {},
   "outputs": [],
   "source": [
    "# load data\n",
    "df = pd.read_csv(\"L:/bucket/vo2max/2019_0361_0002_MAX_TEST.txt\", sep='\\t', skiprows=[1])"
   ]
  },
  {
   "cell_type": "code",
   "execution_count": 6,
   "outputs": [],
   "source": [
    "# rename column\n",
    "df = df.rename(columns={'Time': 'time', 'Sel Duration': 'rri'})"
   ],
   "metadata": {
    "collapsed": false,
    "pycharm": {
     "name": "#%%\n"
    }
   }
  },
  {
   "cell_type": "code",
   "execution_count": 7,
   "id": "febfa2c9",
   "metadata": {},
   "outputs": [
    {
     "data": {
      "text/plain": "          time    rri\n0        0.000  0.686\n1        0.686  0.709\n2        1.395  0.747\n3        2.142  0.758\n4        2.900  0.726\n...        ...    ...\n3197  1339.870  0.451\n3198  1340.321  0.464\n3199  1340.785  0.459\n3200  1341.244  0.455\n3201  1341.699  0.453\n\n[3202 rows x 2 columns]",
      "text/html": "<div>\n<style scoped>\n    .dataframe tbody tr th:only-of-type {\n        vertical-align: middle;\n    }\n\n    .dataframe tbody tr th {\n        vertical-align: top;\n    }\n\n    .dataframe thead th {\n        text-align: right;\n    }\n</style>\n<table border=\"1\" class=\"dataframe\">\n  <thead>\n    <tr style=\"text-align: right;\">\n      <th></th>\n      <th>time</th>\n      <th>rri</th>\n    </tr>\n  </thead>\n  <tbody>\n    <tr>\n      <th>0</th>\n      <td>0.000</td>\n      <td>0.686</td>\n    </tr>\n    <tr>\n      <th>1</th>\n      <td>0.686</td>\n      <td>0.709</td>\n    </tr>\n    <tr>\n      <th>2</th>\n      <td>1.395</td>\n      <td>0.747</td>\n    </tr>\n    <tr>\n      <th>3</th>\n      <td>2.142</td>\n      <td>0.758</td>\n    </tr>\n    <tr>\n      <th>4</th>\n      <td>2.900</td>\n      <td>0.726</td>\n    </tr>\n    <tr>\n      <th>...</th>\n      <td>...</td>\n      <td>...</td>\n    </tr>\n    <tr>\n      <th>3197</th>\n      <td>1339.870</td>\n      <td>0.451</td>\n    </tr>\n    <tr>\n      <th>3198</th>\n      <td>1340.321</td>\n      <td>0.464</td>\n    </tr>\n    <tr>\n      <th>3199</th>\n      <td>1340.785</td>\n      <td>0.459</td>\n    </tr>\n    <tr>\n      <th>3200</th>\n      <td>1341.244</td>\n      <td>0.455</td>\n    </tr>\n    <tr>\n      <th>3201</th>\n      <td>1341.699</td>\n      <td>0.453</td>\n    </tr>\n  </tbody>\n</table>\n<p>3202 rows × 2 columns</p>\n</div>"
     },
     "execution_count": 7,
     "metadata": {},
     "output_type": "execute_result"
    }
   ],
   "source": [
    "# normalize time\n",
    "df['time'] = df['time'] - df['time'].loc[0]"
   ]
  },
  {
   "cell_type": "code",
   "execution_count": 8,
   "outputs": [],
   "source": [
    "# apply hampel filter\n",
    "df['rri_filtered'] = hampel(df['rri'], imputation=True)"
   ],
   "metadata": {
    "collapsed": false,
    "pycharm": {
     "name": "#%%\n"
    }
   }
  },
  {
   "cell_type": "code",
   "execution_count": 9,
   "id": "c0c894bb",
   "metadata": {
    "scrolled": true
   },
   "outputs": [
    {
     "data": {
      "text/plain": "          time    rri  rri_filtered          hr\n0        0.000  0.686         0.686   87.463557\n1        0.686  0.709         0.709   84.626234\n2        1.395  0.747         0.747   80.321285\n3        2.142  0.758         0.708   84.745763\n4        2.900  0.726         0.726   82.644628\n...        ...    ...           ...         ...\n3197  1339.870  0.451         0.451  133.037694\n3198  1340.321  0.464         0.464  129.310345\n3199  1340.785  0.459         0.459  130.718954\n3200  1341.244  0.455         0.455  131.868132\n3201  1341.699  0.453         0.453  132.450331\n\n[3202 rows x 4 columns]",
      "text/html": "<div>\n<style scoped>\n    .dataframe tbody tr th:only-of-type {\n        vertical-align: middle;\n    }\n\n    .dataframe tbody tr th {\n        vertical-align: top;\n    }\n\n    .dataframe thead th {\n        text-align: right;\n    }\n</style>\n<table border=\"1\" class=\"dataframe\">\n  <thead>\n    <tr style=\"text-align: right;\">\n      <th></th>\n      <th>time</th>\n      <th>rri</th>\n      <th>rri_filtered</th>\n      <th>hr</th>\n    </tr>\n  </thead>\n  <tbody>\n    <tr>\n      <th>0</th>\n      <td>0.000</td>\n      <td>0.686</td>\n      <td>0.686</td>\n      <td>87.463557</td>\n    </tr>\n    <tr>\n      <th>1</th>\n      <td>0.686</td>\n      <td>0.709</td>\n      <td>0.709</td>\n      <td>84.626234</td>\n    </tr>\n    <tr>\n      <th>2</th>\n      <td>1.395</td>\n      <td>0.747</td>\n      <td>0.747</td>\n      <td>80.321285</td>\n    </tr>\n    <tr>\n      <th>3</th>\n      <td>2.142</td>\n      <td>0.758</td>\n      <td>0.708</td>\n      <td>84.745763</td>\n    </tr>\n    <tr>\n      <th>4</th>\n      <td>2.900</td>\n      <td>0.726</td>\n      <td>0.726</td>\n      <td>82.644628</td>\n    </tr>\n    <tr>\n      <th>...</th>\n      <td>...</td>\n      <td>...</td>\n      <td>...</td>\n      <td>...</td>\n    </tr>\n    <tr>\n      <th>3197</th>\n      <td>1339.870</td>\n      <td>0.451</td>\n      <td>0.451</td>\n      <td>133.037694</td>\n    </tr>\n    <tr>\n      <th>3198</th>\n      <td>1340.321</td>\n      <td>0.464</td>\n      <td>0.464</td>\n      <td>129.310345</td>\n    </tr>\n    <tr>\n      <th>3199</th>\n      <td>1340.785</td>\n      <td>0.459</td>\n      <td>0.459</td>\n      <td>130.718954</td>\n    </tr>\n    <tr>\n      <th>3200</th>\n      <td>1341.244</td>\n      <td>0.455</td>\n      <td>0.455</td>\n      <td>131.868132</td>\n    </tr>\n    <tr>\n      <th>3201</th>\n      <td>1341.699</td>\n      <td>0.453</td>\n      <td>0.453</td>\n      <td>132.450331</td>\n    </tr>\n  </tbody>\n</table>\n<p>3202 rows × 4 columns</p>\n</div>"
     },
     "execution_count": 9,
     "metadata": {},
     "output_type": "execute_result"
    }
   ],
   "source": [
    "# calculate hr\n",
    "df['hr'] = np.divide(60, df['rri_filtered'])\n"
   ]
  },
  {
   "cell_type": "code",
   "execution_count": 10,
   "outputs": [],
   "source": [
    "# resample to 1 Hz\n",
    "# need to do an index shift as data cannot be collected at 0s\n",
    "x_floor = floor(df['time'].min()) + 1\n",
    "x_ceiling = ceil(df['time'].max()) + 1\n",
    "\n",
    "x_array = np.linspace(x_floor, x_ceiling, x_ceiling)\n",
    "resampled_1Hz = resample(df['hr'], x_ceiling)\n",
    "df_resampled = pd.DataFrame({'time': x_array, 'hr': resampled_1Hz})\n",
    "df_resampled = df_resampled.round(decimals=0)"
   ],
   "metadata": {
    "collapsed": false,
    "pycharm": {
     "name": "#%%\n"
    }
   }
  },
  {
   "cell_type": "code",
   "execution_count": 24,
   "outputs": [
    {
     "data": {
      "text/plain": "<Figure size 432x288 with 1 Axes>",
      "image/png": "[encoded data removed]"
     },
     "metadata": {
      "needs_background": "light"
     },
     "output_type": "display_data"
    }
   ],
   "source": [
    "# not necessary\n",
    "# plot to compare original signal to resampled signal\n",
    "plt.plot(df['time'], df['hr'], '.-', df_resampled['time'], df_resampled['hr'], 'go-')\n",
    "plt.legend(['data', 'resampled'], loc='best')\n",
    "plt.show()"
   ],
   "metadata": {
    "collapsed": false,
    "pycharm": {
     "name": "#%%\n"
    }
   }
  },
  {
   "cell_type": "code",
   "execution_count": 11,
   "outputs": [],
   "source": [
    "# filter down df to only last 120s\n",
    "# recovery is always 120s\n",
    "n_rows = 120\n",
    "df_resampled = df_resampled.tail(n_rows)"
   ],
   "metadata": {
    "collapsed": false,
    "pycharm": {
     "name": "#%%\n"
    }
   }
  },
  {
   "cell_type": "code",
   "execution_count": 12,
   "outputs": [
    {
     "data": {
      "text/plain": "176.0"
     },
     "execution_count": 12,
     "metadata": {},
     "output_type": "execute_result"
    }
   ],
   "source": [
    "# get max value during recovery\n",
    "df_resampled['hr'].max()"
   ],
   "metadata": {
    "collapsed": false,
    "pycharm": {
     "name": "#%%\n"
    }
   }
  },
  {
   "cell_type": "code",
   "execution_count": 13,
   "outputs": [
    {
     "data": {
      "text/plain": "<Figure size 432x288 with 1 Axes>",
      "image/png": "[encoded data removed]"
     },
     "metadata": {
      "needs_background": "light"
     },
     "output_type": "display_data"
    }
   ],
   "source": [
    "# plot recovery data\n",
    "plt.plot(df_resampled['time'], df_resampled['hr'])\n",
    "plt.show()"
   ],
   "metadata": {
    "collapsed": false,
    "pycharm": {
     "name": "#%%\n"
    }
   }
  },
  {
   "cell_type": "markdown",
   "id": "d465ea79",
   "metadata": {},
   "source": [
    "## Curve Fitting"
   ]
  },
  {
   "cell_type": "code",
   "execution_count": 40,
   "id": "121680d8",
   "metadata": {},
   "outputs": [],
   "source": [
    "def monoexponential_decay_fcn(t, hr_max, tau):\n",
    "    \"\"\"\n",
    "    monoexponential decay\n",
    "\n",
    "    :param hr_max: original amount/value. Constant.\n",
    "    :param t: time variable\n",
    "    :param tau: time constant\n",
    "    :return:\n",
    "    \"\"\"\n",
    "\n",
    "    return hr_max * (1 - np.exp(-t/tau))"
   ]
  },
  {
   "cell_type": "code",
   "execution_count": null,
   "outputs": [],
   "source": [
    "# fit monoexponential decay function\n",
    "# todo: fix as it currently does not fit the data\n",
    "popt, pcov = curve_fit(monoexponential_decay_fcn, df_resampled['time'], df_resampled['hr'])"
   ],
   "metadata": {
    "collapsed": false,
    "pycharm": {
     "name": "#%%\n"
    }
   }
  },
  {
   "cell_type": "code",
   "execution_count": 14,
   "outputs": [],
   "source": [
    "# perform linear regression\n",
    "result = linregress(df_resampled['time'], df_resampled['hr'])"
   ],
   "metadata": {
    "collapsed": false,
    "pycharm": {
     "name": "#%%\n"
    }
   }
  },
  {
   "cell_type": "code",
   "execution_count": 15,
   "outputs": [
    {
     "data": {
      "text/plain": "<Figure size 432x288 with 1 Axes>",
      "image/png": "[encoded data removed]"
     },
     "metadata": {
      "needs_background": "light"
     },
     "output_type": "display_data"
    }
   ],
   "source": [
    "# plot linear regression for full data set\n",
    "x = df_resampled['time']\n",
    "plt.plot(x, df_resampled['hr'])\n",
    "plt.plot(x, result.intercept + result.slope * x, 'r', label=f'model\\nslope={round(result.slope, 3)}\\nr={round(result.rvalue, 3)}')\n",
    "plt.legend()\n",
    "plt.show()"
   ],
   "metadata": {
    "collapsed": false,
    "pycharm": {
     "name": "#%%\n"
    }
   }
  },
  {
   "cell_type": "code",
   "execution_count": 22,
   "outputs": [],
   "source": [
    "# perform linear regression for 1s:60s, and 61s:120s\n",
    "\n",
    "lm_first_60 = linregress(df_resampled['time'].head(60), df_resampled['hr'].head(60))\n",
    "lm_second_60 = linregress(df_resampled['time'].tail(60), df_resampled['hr'].tail(60))"
   ],
   "metadata": {
    "collapsed": false,
    "pycharm": {
     "name": "#%%\n"
    }
   }
  },
  {
   "cell_type": "code",
   "execution_count": 27,
   "outputs": [
    {
     "data": {
      "text/plain": "<Figure size 432x288 with 1 Axes>",
      "image/png": "[encoded data removed]"
     },
     "metadata": {
      "needs_background": "light"
     },
     "output_type": "display_data"
    }
   ],
   "source": [
    "# plot new regressions\n",
    "x_first_60 = df_resampled['time'].head(60)\n",
    "y_first_60 = df_resampled['hr'].head(60)\n",
    "x_second_60 = df_resampled['time'].tail(60)\n",
    "y_second_60 = df_resampled['hr'].tail(60)\n",
    "\n",
    "plt.plot(df_resampled['time'], df_resampled['hr'], label=\"hr\")\n",
    "plt.plot(\n",
    "    x_first_60,\n",
    "    lm_first_60.intercept + lm_first_60.slope * x_first_60,\n",
    "    'r',\n",
    "    label=f'First 60\\nslope={round(lm_first_60.slope, 3)}\\nr={round(lm_first_60.rvalue, 3)}',\n",
    ")\n",
    "plt.plot(\n",
    "    x_second_60,\n",
    "    lm_second_60.intercept + lm_second_60.slope * x_second_60,\n",
    "    'g',\n",
    "    label=f'First 60\\nslope={round(lm_second_60.slope, 3)}\\nr={round(lm_second_60.rvalue, 3)}'\n",
    ")\n",
    "plt.legend()\n",
    "plt.show()"
   ],
   "metadata": {
    "collapsed": false,
    "pycharm": {
     "name": "#%%\n"
    }
   }
  }
 ],
 "metadata": {
  "kernelspec": {
   "name": "pycharm-c746ea99",
   "language": "python",
   "display_name": "PyCharm (kinetics)"
  },
  "language_info": {
   "codemirror_mode": {
    "name": "ipython",
    "version": 3
   },
   "file_extension": ".py",
   "mimetype": "text/x-python",
   "name": "python",
   "nbconvert_exporter": "python",
   "pygments_lexer": "ipython3",
   "version": "3.8.8"
  }
 },
 "nbformat": 4,
 "nbformat_minor": 5
}